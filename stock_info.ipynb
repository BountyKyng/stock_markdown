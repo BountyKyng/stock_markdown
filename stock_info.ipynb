{
 "cells": [
  {
   "cell_type": "markdown",
   "metadata": {},
   "source": [
    "# Intel financial information\n",
    "## Downloaded from Yahoo Finance using yfinance\n",
    "\n",
    "Version 1.0\n",
    "\n",
    "With this markdown script I download financial data from Intel from the year 2021. Data will be prepared and analysed in a seperate markdown document."
   ]
  },
  {
   "cell_type": "code",
   "execution_count": 1,
   "metadata": {},
   "outputs": [],
   "source": [
    "# Import required packages\n",
    "import yfinance as yf\n",
    "import pandas as pd\n",
    "import numpy as np"
   ]
  },
  {
   "cell_type": "code",
   "execution_count": 14,
   "metadata": {},
   "outputs": [
    {
     "data": {
      "text/plain": [
       "'INTC'"
      ]
     },
     "execution_count": 14,
     "metadata": {},
     "output_type": "execute_result"
    }
   ],
   "source": [
    "# Set security to INTC\n",
    "security = yf.Ticker('INTC')"
   ]
  },
  {
   "cell_type": "code",
   "execution_count": 29,
   "metadata": {},
   "outputs": [
    {
     "name": "stdout",
     "output_type": "stream",
     "text": [
      "[*********************100%***********************]  1 of 1 completed\n"
     ]
    }
   ],
   "source": [
    "# Download stock information for financial year 2021\n",
    "stock_history = yf.download(security.ticker, start = \"2021-01-01\", end = \"2021-12-31\")"
   ]
  },
  {
   "cell_type": "code",
   "execution_count": 33,
   "metadata": {},
   "outputs": [
    {
     "data": {
      "text/html": [
       "<div>\n",
       "<style scoped>\n",
       "    .dataframe tbody tr th:only-of-type {\n",
       "        vertical-align: middle;\n",
       "    }\n",
       "\n",
       "    .dataframe tbody tr th {\n",
       "        vertical-align: top;\n",
       "    }\n",
       "\n",
       "    .dataframe thead th {\n",
       "        text-align: right;\n",
       "    }\n",
       "</style>\n",
       "<table border=\"1\" class=\"dataframe\">\n",
       "  <thead>\n",
       "    <tr style=\"text-align: right;\">\n",
       "      <th></th>\n",
       "      <th>2021-12-25</th>\n",
       "      <th>2021-09-25</th>\n",
       "      <th>2021-06-26</th>\n",
       "      <th>2021-03-27</th>\n",
       "    </tr>\n",
       "  </thead>\n",
       "  <tbody>\n",
       "    <tr>\n",
       "      <th>Intangible Assets</th>\n",
       "      <td>7.270000e+09</td>\n",
       "      <td>7.684000e+09</td>\n",
       "      <td>8.018000e+09</td>\n",
       "      <td>8.408000e+09</td>\n",
       "    </tr>\n",
       "    <tr>\n",
       "      <th>Total Liab</th>\n",
       "      <td>7.301500e+10</td>\n",
       "      <td>7.787500e+10</td>\n",
       "      <td>6.939000e+10</td>\n",
       "      <td>7.081500e+10</td>\n",
       "    </tr>\n",
       "    <tr>\n",
       "      <th>Total Stockholder Equity</th>\n",
       "      <td>9.539100e+10</td>\n",
       "      <td>9.008700e+10</td>\n",
       "      <td>8.520700e+10</td>\n",
       "      <td>7.980700e+10</td>\n",
       "    </tr>\n",
       "    <tr>\n",
       "      <th>Other Current Liab</th>\n",
       "      <td>2.555000e+09</td>\n",
       "      <td>5.560000e+08</td>\n",
       "      <td>6.180000e+08</td>\n",
       "      <td>6.090000e+08</td>\n",
       "    </tr>\n",
       "    <tr>\n",
       "      <th>Total Assets</th>\n",
       "      <td>1.684060e+11</td>\n",
       "      <td>1.679620e+11</td>\n",
       "      <td>1.545970e+11</td>\n",
       "      <td>1.506220e+11</td>\n",
       "    </tr>\n",
       "  </tbody>\n",
       "</table>\n",
       "</div>"
      ],
      "text/plain": [
       "                            2021-12-25    2021-09-25    2021-06-26  \\\n",
       "Intangible Assets         7.270000e+09  7.684000e+09  8.018000e+09   \n",
       "Total Liab                7.301500e+10  7.787500e+10  6.939000e+10   \n",
       "Total Stockholder Equity  9.539100e+10  9.008700e+10  8.520700e+10   \n",
       "Other Current Liab        2.555000e+09  5.560000e+08  6.180000e+08   \n",
       "Total Assets              1.684060e+11  1.679620e+11  1.545970e+11   \n",
       "\n",
       "                            2021-03-27  \n",
       "Intangible Assets         8.408000e+09  \n",
       "Total Liab                7.081500e+10  \n",
       "Total Stockholder Equity  7.980700e+10  \n",
       "Other Current Liab        6.090000e+08  \n",
       "Total Assets              1.506220e+11  "
      ]
     },
     "execution_count": 33,
     "metadata": {},
     "output_type": "execute_result"
    }
   ],
   "source": [
    "# Get quarterly balance_sheet information and check out table\n",
    "balance_sheet = security.quarterly_balance_sheet\n",
    "balance_sheet.head(5)"
   ]
  },
  {
   "cell_type": "code",
   "execution_count": 32,
   "metadata": {},
   "outputs": [],
   "source": [
    "# Save quarterly balance sheet and stock data to csv in data subfolder.\n",
    "# These are ready for analysis\n",
    "balance_sheet.to_csv(\"data/balance_sheet.csv\", sep = \",\")\n",
    "stock_history.to_csv(\"data/stock_history.csv\", sep = \",\")"
   ]
  },
  {
   "cell_type": "code",
   "execution_count": 48,
   "metadata": {},
   "outputs": [],
   "source": [
    "# Get security recommendations as value counts\n",
    "# Set correct column names\n",
    "recommendations = security.recommendations['To Grade'].value_counts()\n",
    "recommendations = pd.DataFrame(recommendations)\n",
    "recommendations.index.name = 'Recommendation'\n",
    "recommendations.reset_index(inplace=True)\n",
    "recommendations.head()\n",
    "\n",
    "# Save recommendations\n",
    "recommendations.to_csv(\"data/recommendations.csv\", sep = \",\")"
   ]
  },
  {
   "cell_type": "code",
   "execution_count": null,
   "metadata": {},
   "outputs": [],
   "source": []
  }
 ],
 "metadata": {
  "interpreter": {
   "hash": "42b81e8077e6d4311138d0c1e1cf45a58fd4a93e8e626682bb34f9975d2d3e24"
  },
  "kernelspec": {
   "display_name": "Python 3.10.2 64-bit",
   "language": "python",
   "name": "python3"
  },
  "language_info": {
   "codemirror_mode": {
    "name": "ipython",
    "version": 3
   },
   "file_extension": ".py",
   "mimetype": "text/x-python",
   "name": "python",
   "nbconvert_exporter": "python",
   "pygments_lexer": "ipython3",
   "version": "3.10.2"
  },
  "orig_nbformat": 4
 },
 "nbformat": 4,
 "nbformat_minor": 2
}
