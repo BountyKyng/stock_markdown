{
 "cells": [
  {
   "cell_type": "code",
   "execution_count": 1,
   "metadata": {},
   "outputs": [],
   "source": [
    "# Import required packages\n",
    "import yfinance as yf\n",
    "import pandas as pd\n",
    "import numpy as np"
   ]
  },
  {
   "cell_type": "code",
   "execution_count": 2,
   "metadata": {},
   "outputs": [],
   "source": [
    "security = yf.Ticker('INTC')"
   ]
  },
  {
   "cell_type": "code",
   "execution_count": 6,
   "metadata": {},
   "outputs": [
    {
     "data": {
      "text/plain": [
       "Buy                    106\n",
       "Neutral                 54\n",
       "Outperform              41\n",
       "Hold                    38\n",
       "Overweight              38\n",
       "Market Perform          28\n",
       "Underperform            25\n",
       "Equal-Weight            25\n",
       "Underweight             14\n",
       "Sell                     8\n",
       "Sector Perform           4\n",
       "Reduce                   2\n",
       "In-Line                  2\n",
       "Sector Weight            2\n",
       "Average                  1\n",
       "Market Underperform      1\n",
       "Market Outperform        1\n",
       "Perform                  1\n",
       "Positive                 1\n",
       "Long-Term Buy            1\n",
       "Market Weight            1\n",
       "Name: To Grade, dtype: int64"
      ]
     },
     "execution_count": 6,
     "metadata": {},
     "output_type": "execute_result"
    }
   ],
   "source": [
    "security.recommendations['To Grade'].value_counts()"
   ]
  },
  {
   "cell_type": "code",
   "execution_count": null,
   "metadata": {},
   "outputs": [],
   "source": []
  }
 ],
 "metadata": {
  "interpreter": {
   "hash": "42b81e8077e6d4311138d0c1e1cf45a58fd4a93e8e626682bb34f9975d2d3e24"
  },
  "kernelspec": {
   "display_name": "Python 3.10.2 64-bit",
   "language": "python",
   "name": "python3"
  },
  "language_info": {
   "codemirror_mode": {
    "name": "ipython",
    "version": 3
   },
   "file_extension": ".py",
   "mimetype": "text/x-python",
   "name": "python",
   "nbconvert_exporter": "python",
   "pygments_lexer": "ipython3",
   "version": "3.10.2"
  },
  "orig_nbformat": 4
 },
 "nbformat": 4,
 "nbformat_minor": 2
}
