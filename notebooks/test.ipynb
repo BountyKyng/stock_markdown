{
 "cells": [
  {
   "cell_type": "code",
   "execution_count": 1,
   "metadata": {},
   "outputs": [],
   "source": [
    "# Import required packages\n",
    "import os\n",
    "import yfinance as yf\n",
    "import pandas as pd\n",
    "import numpy as np\n"
   ]
  },
  {
   "cell_type": "code",
   "execution_count": 2,
   "metadata": {},
   "outputs": [],
   "source": [
    "# Set Ticker\n",
    "ticker = yf.Ticker('INTC')"
   ]
  },
  {
   "cell_type": "code",
   "execution_count": 36,
   "metadata": {},
   "outputs": [
    {
     "data": {
      "text/html": [
       "<div>\n",
       "<style scoped>\n",
       "    .dataframe tbody tr th:only-of-type {\n",
       "        vertical-align: middle;\n",
       "    }\n",
       "\n",
       "    .dataframe tbody tr th {\n",
       "        vertical-align: top;\n",
       "    }\n",
       "\n",
       "    .dataframe thead th {\n",
       "        text-align: right;\n",
       "    }\n",
       "</style>\n",
       "<table border=\"1\" class=\"dataframe\">\n",
       "  <thead>\n",
       "    <tr style=\"text-align: right;\">\n",
       "      <th></th>\n",
       "      <th>COMPANY</th>\n",
       "      <th>Company Name</th>\n",
       "      <th>Company Ticker</th>\n",
       "      <th>Company Sector</th>\n",
       "      <th>Company Industry</th>\n",
       "      <th>Company Country</th>\n",
       "    </tr>\n",
       "  </thead>\n",
       "  <tbody>\n",
       "  </tbody>\n",
       "</table>\n",
       "</div>"
      ],
      "text/plain": [
       "Empty DataFrame\n",
       "Columns: [COMPANY, Company Name, Company Ticker, Company Sector, Company Industry, Company Country]\n",
       "Index: []"
      ]
     },
     "execution_count": 36,
     "metadata": {},
     "output_type": "execute_result"
    }
   ],
   "source": [
    "# Create empty data frame based on data model\n",
    "COMPANIES = pd.DataFrame(columns=['COMPANY', 'Company Name', 'Company Ticker', 'Company Sector', 'Company Industry', 'Company Country'])\n",
    "COMPANIES"
   ]
  },
  {
   "cell_type": "code",
   "execution_count": 70,
   "metadata": {},
   "outputs": [
    {
     "data": {
      "text/html": [
       "<div>\n",
       "<style scoped>\n",
       "    .dataframe tbody tr th:only-of-type {\n",
       "        vertical-align: middle;\n",
       "    }\n",
       "\n",
       "    .dataframe tbody tr th {\n",
       "        vertical-align: top;\n",
       "    }\n",
       "\n",
       "    .dataframe thead th {\n",
       "        text-align: right;\n",
       "    }\n",
       "</style>\n",
       "<table border=\"1\" class=\"dataframe\">\n",
       "  <thead>\n",
       "    <tr style=\"text-align: right;\">\n",
       "      <th></th>\n",
       "      <th>COMPANY</th>\n",
       "      <th>Company Name</th>\n",
       "      <th>Company Ticker</th>\n",
       "      <th>Company Sector</th>\n",
       "      <th>Company Industry</th>\n",
       "      <th>Company Country</th>\n",
       "    </tr>\n",
       "  </thead>\n",
       "  <tbody>\n",
       "    <tr>\n",
       "      <th>Data</th>\n",
       "      <td>INTC</td>\n",
       "      <td>Intel Corporation</td>\n",
       "      <td>INTC</td>\n",
       "      <td>Technology</td>\n",
       "      <td>Semiconductors</td>\n",
       "      <td>United States</td>\n",
       "    </tr>\n",
       "    <tr>\n",
       "      <th>Data</th>\n",
       "      <td>INTC</td>\n",
       "      <td>Intel Corporation</td>\n",
       "      <td>INTC</td>\n",
       "      <td>Technology</td>\n",
       "      <td>Semiconductors</td>\n",
       "      <td>United States</td>\n",
       "    </tr>\n",
       "    <tr>\n",
       "      <th>Data</th>\n",
       "      <td>INTC</td>\n",
       "      <td>Intel Corporation</td>\n",
       "      <td>INTC</td>\n",
       "      <td>Technology</td>\n",
       "      <td>Semiconductors</td>\n",
       "      <td>United States</td>\n",
       "    </tr>\n",
       "  </tbody>\n",
       "</table>\n",
       "</div>"
      ],
      "text/plain": [
       "     COMPANY       Company Name Company Ticker Company Sector  \\\n",
       "Data    INTC  Intel Corporation           INTC     Technology   \n",
       "Data    INTC  Intel Corporation           INTC     Technology   \n",
       "Data    INTC  Intel Corporation           INTC     Technology   \n",
       "\n",
       "     Company Industry Company Country  \n",
       "Data   Semiconductors   United States  \n",
       "Data   Semiconductors   United States  \n",
       "Data   Semiconductors   United States  "
      ]
     },
     "execution_count": 70,
     "metadata": {},
     "output_type": "execute_result"
    }
   ],
   "source": [
    "# Get info from ticker\n",
    "info = ticker.info\n",
    "\n",
    "info = pd.DataFrame.from_dict(info, orient='index')\n",
    "info = info.reset_index()\n",
    "info.columns = ['Class', 'Data']\n",
    "info = info.transpose()\n",
    "info.columns = info.iloc[0]\n",
    "info = info.drop(index='Class')\n",
    "info = info[['sector','symbol', 'industry', 'country', 'longName']]\n",
    "\n",
    "# Rename columns\n",
    "info = info.rename(columns={'symbol':'Company Ticker',\n",
    "                    'industry':'Company Industry',\n",
    "                    'country':'Company Country',\n",
    "                    'longName':'Company Name',\n",
    "                    'sector':'Company Sector'})\n",
    "\n",
    "info['COMPANY'] = info['Company Ticker']\n",
    "info\n",
    "\n",
    "COMPANIES = pd.concat(objs=[COMPANIES, info])\n",
    "COMPANIES\n"
   ]
  }
 ],
 "metadata": {
  "kernelspec": {
   "display_name": "Python 3.10.5 64-bit",
   "language": "python",
   "name": "python3"
  },
  "language_info": {
   "codemirror_mode": {
    "name": "ipython",
    "version": 3
   },
   "file_extension": ".py",
   "mimetype": "text/x-python",
   "name": "python",
   "nbconvert_exporter": "python",
   "pygments_lexer": "ipython3",
   "version": "3.10.5"
  },
  "orig_nbformat": 4,
  "vscode": {
   "interpreter": {
    "hash": "cc6df599ed388aacf2e3a857b6ad7c0aeb92f0d188fcfc11ce44944b23c64327"
   }
  }
 },
 "nbformat": 4,
 "nbformat_minor": 2
}
