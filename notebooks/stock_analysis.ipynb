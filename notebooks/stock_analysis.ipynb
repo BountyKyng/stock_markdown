{
 "cells": [
  {
   "cell_type": "markdown",
   "metadata": {},
   "source": [
    "# Intel Stock Analyser\n",
    "Version 1.0\n",
    "\n",
    "In this simple stock analyser I will explore balance sheet items that correlate with the opening- and closing stock price of Intel. Specifically for 2021."
   ]
  },
  {
   "cell_type": "code",
   "execution_count": 1,
   "metadata": {},
   "outputs": [],
   "source": [
    "# Import required packages\n",
    "import pandas as pd\n",
    "import numpy as np\n",
    "import matplotlib.pyplot as plt\n",
    "import csv\n",
    "import datetime"
   ]
  },
  {
   "cell_type": "code",
   "execution_count": 23,
   "metadata": {},
   "outputs": [],
   "source": [
    "# Read data into sessiom\n",
    "stock = pd.read_csv(\"data/stock_history.csv\", sep = \",\")\n",
    "\n",
    "# Read balance sheet into session\n",
    "balance_sheet = pd.read_csv(\"data/balance_sheet.csv\", sep = \",\")\n",
    "\n",
    "# Set index_col = [0] to prevent creation of column: 'Unnamed: 0'\n",
    "recommendations = pd.read_csv(\"data/recommendations.csv\", sep = \",\", index_col = [0])"
   ]
  },
  {
   "cell_type": "code",
   "execution_count": 30,
   "metadata": {},
   "outputs": [
    {
     "data": {
      "text/html": [
       "<div>\n",
       "<style scoped>\n",
       "    .dataframe tbody tr th:only-of-type {\n",
       "        vertical-align: middle;\n",
       "    }\n",
       "\n",
       "    .dataframe tbody tr th {\n",
       "        vertical-align: top;\n",
       "    }\n",
       "\n",
       "    .dataframe thead th {\n",
       "        text-align: right;\n",
       "    }\n",
       "</style>\n",
       "<table border=\"1\" class=\"dataframe\">\n",
       "  <thead>\n",
       "    <tr style=\"text-align: right;\">\n",
       "      <th></th>\n",
       "      <th>Balance Item</th>\n",
       "      <th>2021-12-25</th>\n",
       "      <th>2021-09-25</th>\n",
       "      <th>2021-06-26</th>\n",
       "      <th>2021-03-27</th>\n",
       "    </tr>\n",
       "  </thead>\n",
       "  <tbody>\n",
       "    <tr>\n",
       "      <th>0</th>\n",
       "      <td>Intangible Assets</td>\n",
       "      <td>7.270000e+09</td>\n",
       "      <td>7.684000e+09</td>\n",
       "      <td>8.018000e+09</td>\n",
       "      <td>8.408000e+09</td>\n",
       "    </tr>\n",
       "    <tr>\n",
       "      <th>1</th>\n",
       "      <td>Total Liab</td>\n",
       "      <td>7.301500e+10</td>\n",
       "      <td>7.787500e+10</td>\n",
       "      <td>6.939000e+10</td>\n",
       "      <td>7.081500e+10</td>\n",
       "    </tr>\n",
       "    <tr>\n",
       "      <th>2</th>\n",
       "      <td>Total Stockholder Equity</td>\n",
       "      <td>9.539100e+10</td>\n",
       "      <td>9.008700e+10</td>\n",
       "      <td>8.520700e+10</td>\n",
       "      <td>7.980700e+10</td>\n",
       "    </tr>\n",
       "    <tr>\n",
       "      <th>3</th>\n",
       "      <td>Other Current Liab</td>\n",
       "      <td>2.555000e+09</td>\n",
       "      <td>5.560000e+08</td>\n",
       "      <td>6.180000e+08</td>\n",
       "      <td>6.090000e+08</td>\n",
       "    </tr>\n",
       "    <tr>\n",
       "      <th>4</th>\n",
       "      <td>Total Assets</td>\n",
       "      <td>1.684060e+11</td>\n",
       "      <td>1.679620e+11</td>\n",
       "      <td>1.545970e+11</td>\n",
       "      <td>1.506220e+11</td>\n",
       "    </tr>\n",
       "  </tbody>\n",
       "</table>\n",
       "</div>"
      ],
      "text/plain": [
       "               Balance Item    2021-12-25    2021-09-25    2021-06-26  \\\n",
       "0         Intangible Assets  7.270000e+09  7.684000e+09  8.018000e+09   \n",
       "1                Total Liab  7.301500e+10  7.787500e+10  6.939000e+10   \n",
       "2  Total Stockholder Equity  9.539100e+10  9.008700e+10  8.520700e+10   \n",
       "3        Other Current Liab  2.555000e+09  5.560000e+08  6.180000e+08   \n",
       "4              Total Assets  1.684060e+11  1.679620e+11  1.545970e+11   \n",
       "\n",
       "     2021-03-27  \n",
       "0  8.408000e+09  \n",
       "1  7.081500e+10  \n",
       "2  7.980700e+10  \n",
       "3  6.090000e+08  \n",
       "4  1.506220e+11  "
      ]
     },
     "execution_count": 30,
     "metadata": {},
     "output_type": "execute_result"
    }
   ],
   "source": [
    "# Check out data structure with head function\n",
    "\n",
    "#Stock\n",
    "stock.head()\n",
    "\n",
    "#Balance_sheet\n",
    "balance_sheet.head()\n",
    "\n",
    "# Rename incorrect first column name to 'Balance Item'\n",
    "# Check out head after changing data\n",
    "balance_sheet = balance_sheet.rename(columns={'Unnamed: 0' : 'Balance Item'})\n",
    "balance_sheet.head()\n",
    "\n",
    "#Recommendations\n",
    "recommendations.head()"
   ]
  },
  {
   "cell_type": "code",
   "execution_count": 29,
   "metadata": {},
   "outputs": [
    {
     "data": {
      "text/html": [
       "<div>\n",
       "<style scoped>\n",
       "    .dataframe tbody tr th:only-of-type {\n",
       "        vertical-align: middle;\n",
       "    }\n",
       "\n",
       "    .dataframe tbody tr th {\n",
       "        vertical-align: top;\n",
       "    }\n",
       "\n",
       "    .dataframe thead th {\n",
       "        text-align: right;\n",
       "    }\n",
       "</style>\n",
       "<table border=\"1\" class=\"dataframe\">\n",
       "  <thead>\n",
       "    <tr style=\"text-align: right;\">\n",
       "      <th></th>\n",
       "      <th>Balance Item</th>\n",
       "      <th>2021-12-25</th>\n",
       "      <th>2021-09-25</th>\n",
       "      <th>2021-06-26</th>\n",
       "      <th>2021-03-27</th>\n",
       "    </tr>\n",
       "  </thead>\n",
       "  <tbody>\n",
       "    <tr>\n",
       "      <th>0</th>\n",
       "      <td>Intangible Assets</td>\n",
       "      <td>7.270000e+09</td>\n",
       "      <td>7.684000e+09</td>\n",
       "      <td>8.018000e+09</td>\n",
       "      <td>8.408000e+09</td>\n",
       "    </tr>\n",
       "    <tr>\n",
       "      <th>1</th>\n",
       "      <td>Total Liab</td>\n",
       "      <td>7.301500e+10</td>\n",
       "      <td>7.787500e+10</td>\n",
       "      <td>6.939000e+10</td>\n",
       "      <td>7.081500e+10</td>\n",
       "    </tr>\n",
       "    <tr>\n",
       "      <th>2</th>\n",
       "      <td>Total Stockholder Equity</td>\n",
       "      <td>9.539100e+10</td>\n",
       "      <td>9.008700e+10</td>\n",
       "      <td>8.520700e+10</td>\n",
       "      <td>7.980700e+10</td>\n",
       "    </tr>\n",
       "    <tr>\n",
       "      <th>3</th>\n",
       "      <td>Other Current Liab</td>\n",
       "      <td>2.555000e+09</td>\n",
       "      <td>5.560000e+08</td>\n",
       "      <td>6.180000e+08</td>\n",
       "      <td>6.090000e+08</td>\n",
       "    </tr>\n",
       "    <tr>\n",
       "      <th>4</th>\n",
       "      <td>Total Assets</td>\n",
       "      <td>1.684060e+11</td>\n",
       "      <td>1.679620e+11</td>\n",
       "      <td>1.545970e+11</td>\n",
       "      <td>1.506220e+11</td>\n",
       "    </tr>\n",
       "  </tbody>\n",
       "</table>\n",
       "</div>"
      ],
      "text/plain": [
       "               Balance Item    2021-12-25    2021-09-25    2021-06-26  \\\n",
       "0         Intangible Assets  7.270000e+09  7.684000e+09  8.018000e+09   \n",
       "1                Total Liab  7.301500e+10  7.787500e+10  6.939000e+10   \n",
       "2  Total Stockholder Equity  9.539100e+10  9.008700e+10  8.520700e+10   \n",
       "3        Other Current Liab  2.555000e+09  5.560000e+08  6.180000e+08   \n",
       "4              Total Assets  1.684060e+11  1.679620e+11  1.545970e+11   \n",
       "\n",
       "     2021-03-27  \n",
       "0  8.408000e+09  \n",
       "1  7.081500e+10  \n",
       "2  7.980700e+10  \n",
       "3  6.090000e+08  \n",
       "4  1.506220e+11  "
      ]
     },
     "execution_count": 29,
     "metadata": {},
     "output_type": "execute_result"
    }
   ],
   "source": [
    "# Rename incorrect first column name to 'Balance Item'\n",
    "# Check out head after changing data\n",
    "balance_sheet = balance_sheet.rename(columns={'Unnamed: 0' : 'Balance Item'})"
   ]
  },
  {
   "cell_type": "code",
   "execution_count": 31,
   "metadata": {},
   "outputs": [],
   "source": [
    "# Add column 'Ticker' to datasets which is INTC\n",
    "stock['Ticker'] = 'INTC'\n",
    "balance_sheet['Ticker'] = 'INTC'"
   ]
  },
  {
   "cell_type": "code",
   "execution_count": 38,
   "metadata": {},
   "outputs": [
    {
     "data": {
      "text/html": [
       "<div>\n",
       "<style scoped>\n",
       "    .dataframe tbody tr th:only-of-type {\n",
       "        vertical-align: middle;\n",
       "    }\n",
       "\n",
       "    .dataframe tbody tr th {\n",
       "        vertical-align: top;\n",
       "    }\n",
       "\n",
       "    .dataframe thead th {\n",
       "        text-align: right;\n",
       "    }\n",
       "</style>\n",
       "<table border=\"1\" class=\"dataframe\">\n",
       "  <thead>\n",
       "    <tr style=\"text-align: right;\">\n",
       "      <th></th>\n",
       "      <th>Date</th>\n",
       "      <th>Open</th>\n",
       "      <th>High</th>\n",
       "      <th>Low</th>\n",
       "      <th>Close</th>\n",
       "      <th>Adj Close</th>\n",
       "      <th>Volume</th>\n",
       "      <th>Ticker</th>\n",
       "      <th>Month</th>\n",
       "      <th>Day Name</th>\n",
       "      <th>Month Name</th>\n",
       "    </tr>\n",
       "  </thead>\n",
       "  <tbody>\n",
       "    <tr>\n",
       "      <th>0</th>\n",
       "      <td>2020-12-31</td>\n",
       "      <td>48.75</td>\n",
       "      <td>50.189999</td>\n",
       "      <td>48.720001</td>\n",
       "      <td>49.82</td>\n",
       "      <td>48.560837</td>\n",
       "      <td>28576800</td>\n",
       "      <td>INTC</td>\n",
       "      <td>2020-12</td>\n",
       "      <td>Thursday</td>\n",
       "      <td>December</td>\n",
       "    </tr>\n",
       "  </tbody>\n",
       "</table>\n",
       "</div>"
      ],
      "text/plain": [
       "        Date   Open       High        Low  Close  Adj Close    Volume Ticker  \\\n",
       "0 2020-12-31  48.75  50.189999  48.720001  49.82  48.560837  28576800   INTC   \n",
       "\n",
       "     Month  Day Name Month Name  \n",
       "0  2020-12  Thursday   December  "
      ]
     },
     "execution_count": 38,
     "metadata": {},
     "output_type": "execute_result"
    }
   ],
   "source": [
    "# Check out stock data types\n",
    "# For stock dataset, de date variable needs to be changed to datetime variable\n",
    "stock.dtypes\n",
    "stock['Date'] = pd.to_datetime(stock['Date'])\n",
    "stock.dtypes\n",
    "\n",
    "# Add monthly data to stock dataset\n",
    "stock['Month'] = stock['Date'].dt.to_period('M')\n",
    "\n",
    "# Also add day name and month name to stock dataset\n",
    "stock['Day Name'] = stock['Date'].dt.day_name()\n",
    "stock['Month Name'] = stock['Date'].dt.month_name()\\\n",
    "\n",
    "#stock checkout\n",
    "stock.head(1)\n"
   ]
  },
  {
   "cell_type": "code",
   "execution_count": 40,
   "metadata": {},
   "outputs": [
    {
     "data": {
      "text/plain": [
       "Recommendation    object\n",
       "To Grade           int64\n",
       "dtype: object"
      ]
     },
     "execution_count": 40,
     "metadata": {},
     "output_type": "execute_result"
    }
   ],
   "source": [
    "#Check out data types for balance_sheet and recommendations\n",
    "balance_sheet.dtypes\n",
    "recommendations.dtypes"
   ]
  },
  {
   "cell_type": "code",
   "execution_count": null,
   "metadata": {},
   "outputs": [],
   "source": []
  }
 ],
 "metadata": {
  "interpreter": {
   "hash": "478b53684b45ff400a0afc14f1f423eafc887b5017ef1280e01251cb19cb2ac6"
  },
  "kernelspec": {
   "display_name": "Python 3.9.6 64-bit",
   "name": "python3"
  },
  "language_info": {
   "codemirror_mode": {
    "name": "ipython",
    "version": 3
   },
   "file_extension": ".py",
   "mimetype": "text/x-python",
   "name": "python",
   "nbconvert_exporter": "python",
   "pygments_lexer": "ipython3",
   "version": "3.10.2"
  },
  "orig_nbformat": 4
 },
 "nbformat": 4,
 "nbformat_minor": 2
}
