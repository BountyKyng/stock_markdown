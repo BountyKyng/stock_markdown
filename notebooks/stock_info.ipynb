{
 "cells": [
  {
   "cell_type": "markdown",
   "metadata": {},
   "source": [
    "# Downloading financial information\n",
    "## Using Yahoo Finance using yfinance\n",
    "\n",
    "Version 1.0\n",
    "\n",
    "This markdown script is used as a test to download financial data from Yahoo Finance using the yfinance package."
   ]
  },
  {
   "cell_type": "code",
   "execution_count": 1,
   "metadata": {},
   "outputs": [],
   "source": [
    "# Import required packages\n",
    "import yfinance as yf\n",
    "import pandas as pd\n",
    "import numpy as np"
   ]
  },
  {
   "cell_type": "code",
   "execution_count": 5,
   "metadata": {},
   "outputs": [
    {
     "name": "stdout",
     "output_type": "stream",
     "text": [
      "[*********************100%***********************]  1 of 1 completed\n",
      "[*********************100%***********************]  1 of 1 completed\n"
     ]
    }
   ],
   "source": [
    "# Set tickers to download and collect data from\n",
    "Tickers = ['INTC', 'AMD']\n",
    "start_date = \"2021-01-01\"\n",
    "end_date = \"2021-12-31\"\n",
    "\n",
    "# Initialise Ticker dictionary to loop through.\n",
    "Ticker_df = {}\n",
    "\n",
    "# Download stock history based on tickers in the Tickers list\n",
    "for Ticker in Tickers:\n",
    "    Ticker_df[Ticker] = yf.download(Ticker, start = start_date, end = end_date)\n",
    "\n",
    "# Store stock history in data folder based on Ticker_df\n",
    "for Ticker in Ticker_df:\n",
    "    Ticker_df[Ticker].to_csv(\"data/stock_history_\" + str(Ticker) + \".csv\", sep = \",\")\n"
   ]
  },
  {
   "cell_type": "code",
   "execution_count": 6,
   "metadata": {},
   "outputs": [],
   "source": [
    "# Get quarterly balance sheets\n",
    "Ticker_sheets = {}\n",
    "\n",
    "# Get quarterly balance sheets based on the Ticker list\n",
    "for Ticker in Ticker_df:\n",
    "    Ticker_object = yf.Ticker(Ticker)\n",
    "    Ticker_sheets[Ticker] = Ticker_object.quarterly_balance_sheet\n",
    "    \n",
    "# Store quarterly balance sheets    \n",
    "for Ticker in Ticker_sheets:\n",
    "    Ticker_sheets[Ticker].to_csv(\"data/quarterly_balance_sheets_\" + str(Ticker) + \".csv\", sep = \",\")"
   ]
  },
  {
   "cell_type": "code",
   "execution_count": null,
   "metadata": {},
   "outputs": [],
   "source": []
  }
 ],
 "metadata": {
  "interpreter": {
   "hash": "cb5837f5fc3c224076f846c564b0373ad91005009ca2aaa1b82d128c6dd42b1a"
  },
  "kernelspec": {
   "display_name": "Python 3.10.4 64-bit",
   "language": "python",
   "name": "python3"
  },
  "language_info": {
   "codemirror_mode": {
    "name": "ipython",
    "version": 3
   },
   "file_extension": ".py",
   "mimetype": "text/x-python",
   "name": "python",
   "nbconvert_exporter": "python",
   "pygments_lexer": "ipython3",
   "version": "3.10.4"
  },
  "orig_nbformat": 4
 },
 "nbformat": 4,
 "nbformat_minor": 2
}
