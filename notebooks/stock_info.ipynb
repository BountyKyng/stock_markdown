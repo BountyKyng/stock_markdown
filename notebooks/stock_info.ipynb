{
 "cells": [
  {
   "cell_type": "markdown",
   "metadata": {},
   "source": [
    "# Downloading financial information\n",
    "## Using Yahoo Finance using yfinance\n",
    "\n",
    "Version 1.0\n",
    "\n",
    "This markdown script is used as a test to download financial data from Yahoo Finance using the yfinance package."
   ]
  },
  {
   "cell_type": "code",
   "execution_count": 1,
   "metadata": {},
   "outputs": [],
   "source": [
    "# Import required packages\n",
    "import yfinance as yf\n",
    "import pandas as pd\n",
    "import numpy as np"
   ]
  },
  {
   "cell_type": "code",
   "execution_count": 2,
   "metadata": {},
   "outputs": [
    {
     "name": "stdout",
     "output_type": "stream",
     "text": [
      "[*********************100%***********************]  1 of 1 completed\n",
      "[*********************100%***********************]  1 of 1 completed\n"
     ]
    }
   ],
   "source": [
    "# Set tickers to download and collect data from\n",
    "Tickers = ['INTC', 'AMD']\n",
    "start_date = \"2021-01-01\"\n",
    "end_date = \"2021-12-31\"\n",
    "\n",
    "# Initialise Ticker dictionary to loop through.\n",
    "Ticker_df = {}\n",
    "\n",
    "# Download stock history based on tickers in the Tickers list\n",
    "for Ticker in Tickers:\n",
    "    Ticker_df[Ticker] = yf.download(Ticker, start = start_date, end = end_date)\n",
    "\n",
    "# Store stock history in data folder based on Ticker_df\n",
    "#for Ticker in Ticker_df:\n",
    "#    Ticker_df[Ticker].to_csv(\"data/stock_history_\" + str(Ticker) + \".csv\", sep = \",\")\n"
   ]
  },
  {
   "cell_type": "code",
   "execution_count": 29,
   "metadata": {},
   "outputs": [],
   "source": [
    "for i in Ticker_df:    \n",
    "    globals()[i]=Ticker_df[i]"
   ]
  },
  {
   "cell_type": "code",
   "execution_count": null,
   "metadata": {},
   "outputs": [],
   "source": [
    "for i in Tickers:\n",
    "    globals()[i]['Company'] = i"
   ]
  },
  {
   "cell_type": "code",
   "execution_count": 43,
   "metadata": {},
   "outputs": [],
   "source": [
    "for i in Tickers:\n",
    "    globals()[i] = globals()[i].reset_index(level=0)"
   ]
  },
  {
   "cell_type": "code",
   "execution_count": 60,
   "metadata": {},
   "outputs": [
    {
     "data": {
      "text/html": [
       "<div>\n",
       "<style scoped>\n",
       "    .dataframe tbody tr th:only-of-type {\n",
       "        vertical-align: middle;\n",
       "    }\n",
       "\n",
       "    .dataframe tbody tr th {\n",
       "        vertical-align: top;\n",
       "    }\n",
       "\n",
       "    .dataframe thead th {\n",
       "        text-align: right;\n",
       "    }\n",
       "</style>\n",
       "<table border=\"1\" class=\"dataframe\">\n",
       "  <thead>\n",
       "    <tr style=\"text-align: right;\">\n",
       "      <th></th>\n",
       "      <th>Date</th>\n",
       "      <th>Open</th>\n",
       "      <th>High</th>\n",
       "      <th>Low</th>\n",
       "      <th>Close</th>\n",
       "      <th>Adj Close</th>\n",
       "      <th>Volume</th>\n",
       "      <th>Company</th>\n",
       "      <th>index</th>\n",
       "    </tr>\n",
       "  </thead>\n",
       "  <tbody>\n",
       "    <tr>\n",
       "      <th>0</th>\n",
       "      <td>2020-12-31</td>\n",
       "      <td>92.099998</td>\n",
       "      <td>92.300003</td>\n",
       "      <td>90.870003</td>\n",
       "      <td>91.709999</td>\n",
       "      <td>91.709999</td>\n",
       "      <td>24930700</td>\n",
       "      <td>AMD</td>\n",
       "      <td>NaN</td>\n",
       "    </tr>\n",
       "    <tr>\n",
       "      <th>1</th>\n",
       "      <td>2021-01-04</td>\n",
       "      <td>92.110001</td>\n",
       "      <td>96.059998</td>\n",
       "      <td>90.919998</td>\n",
       "      <td>92.300003</td>\n",
       "      <td>92.300003</td>\n",
       "      <td>51802600</td>\n",
       "      <td>AMD</td>\n",
       "      <td>NaN</td>\n",
       "    </tr>\n",
       "    <tr>\n",
       "      <th>2</th>\n",
       "      <td>2021-01-05</td>\n",
       "      <td>92.099998</td>\n",
       "      <td>93.209999</td>\n",
       "      <td>91.410004</td>\n",
       "      <td>92.769997</td>\n",
       "      <td>92.769997</td>\n",
       "      <td>34208000</td>\n",
       "      <td>AMD</td>\n",
       "      <td>NaN</td>\n",
       "    </tr>\n",
       "    <tr>\n",
       "      <th>3</th>\n",
       "      <td>2021-01-06</td>\n",
       "      <td>91.620003</td>\n",
       "      <td>92.279999</td>\n",
       "      <td>89.459999</td>\n",
       "      <td>90.330002</td>\n",
       "      <td>90.330002</td>\n",
       "      <td>51911700</td>\n",
       "      <td>AMD</td>\n",
       "      <td>NaN</td>\n",
       "    </tr>\n",
       "    <tr>\n",
       "      <th>4</th>\n",
       "      <td>2021-01-07</td>\n",
       "      <td>91.330002</td>\n",
       "      <td>95.510002</td>\n",
       "      <td>91.199997</td>\n",
       "      <td>95.160004</td>\n",
       "      <td>95.160004</td>\n",
       "      <td>42897200</td>\n",
       "      <td>AMD</td>\n",
       "      <td>NaN</td>\n",
       "    </tr>\n",
       "    <tr>\n",
       "      <th>...</th>\n",
       "      <td>...</td>\n",
       "      <td>...</td>\n",
       "      <td>...</td>\n",
       "      <td>...</td>\n",
       "      <td>...</td>\n",
       "      <td>...</td>\n",
       "      <td>...</td>\n",
       "      <td>...</td>\n",
       "      <td>...</td>\n",
       "    </tr>\n",
       "    <tr>\n",
       "      <th>247</th>\n",
       "      <td>2021-12-23</td>\n",
       "      <td>51.080002</td>\n",
       "      <td>51.730000</td>\n",
       "      <td>51.049999</td>\n",
       "      <td>51.310001</td>\n",
       "      <td>50.522728</td>\n",
       "      <td>25198200</td>\n",
       "      <td>INTC</td>\n",
       "      <td>247.0</td>\n",
       "    </tr>\n",
       "    <tr>\n",
       "      <th>248</th>\n",
       "      <td>2021-12-27</td>\n",
       "      <td>51.349998</td>\n",
       "      <td>52.060001</td>\n",
       "      <td>51.299999</td>\n",
       "      <td>51.939999</td>\n",
       "      <td>51.143055</td>\n",
       "      <td>20985400</td>\n",
       "      <td>INTC</td>\n",
       "      <td>248.0</td>\n",
       "    </tr>\n",
       "    <tr>\n",
       "      <th>249</th>\n",
       "      <td>2021-12-28</td>\n",
       "      <td>51.930000</td>\n",
       "      <td>52.119999</td>\n",
       "      <td>51.630001</td>\n",
       "      <td>51.759998</td>\n",
       "      <td>50.965816</td>\n",
       "      <td>19290400</td>\n",
       "      <td>INTC</td>\n",
       "      <td>249.0</td>\n",
       "    </tr>\n",
       "    <tr>\n",
       "      <th>250</th>\n",
       "      <td>2021-12-29</td>\n",
       "      <td>51.810001</td>\n",
       "      <td>52.139999</td>\n",
       "      <td>51.660000</td>\n",
       "      <td>51.830002</td>\n",
       "      <td>51.034748</td>\n",
       "      <td>14174800</td>\n",
       "      <td>INTC</td>\n",
       "      <td>250.0</td>\n",
       "    </tr>\n",
       "    <tr>\n",
       "      <th>251</th>\n",
       "      <td>2021-12-30</td>\n",
       "      <td>51.919998</td>\n",
       "      <td>52.139999</td>\n",
       "      <td>51.650002</td>\n",
       "      <td>51.740002</td>\n",
       "      <td>50.946129</td>\n",
       "      <td>18359400</td>\n",
       "      <td>INTC</td>\n",
       "      <td>251.0</td>\n",
       "    </tr>\n",
       "  </tbody>\n",
       "</table>\n",
       "<p>504 rows × 9 columns</p>\n",
       "</div>"
      ],
      "text/plain": [
       "          Date       Open       High        Low      Close  Adj Close  \\\n",
       "0   2020-12-31  92.099998  92.300003  90.870003  91.709999  91.709999   \n",
       "1   2021-01-04  92.110001  96.059998  90.919998  92.300003  92.300003   \n",
       "2   2021-01-05  92.099998  93.209999  91.410004  92.769997  92.769997   \n",
       "3   2021-01-06  91.620003  92.279999  89.459999  90.330002  90.330002   \n",
       "4   2021-01-07  91.330002  95.510002  91.199997  95.160004  95.160004   \n",
       "..         ...        ...        ...        ...        ...        ...   \n",
       "247 2021-12-23  51.080002  51.730000  51.049999  51.310001  50.522728   \n",
       "248 2021-12-27  51.349998  52.060001  51.299999  51.939999  51.143055   \n",
       "249 2021-12-28  51.930000  52.119999  51.630001  51.759998  50.965816   \n",
       "250 2021-12-29  51.810001  52.139999  51.660000  51.830002  51.034748   \n",
       "251 2021-12-30  51.919998  52.139999  51.650002  51.740002  50.946129   \n",
       "\n",
       "       Volume Company  index  \n",
       "0    24930700     AMD    NaN  \n",
       "1    51802600     AMD    NaN  \n",
       "2    34208000     AMD    NaN  \n",
       "3    51911700     AMD    NaN  \n",
       "4    42897200     AMD    NaN  \n",
       "..        ...     ...    ...  \n",
       "247  25198200    INTC  247.0  \n",
       "248  20985400    INTC  248.0  \n",
       "249  19290400    INTC  249.0  \n",
       "250  14174800    INTC  250.0  \n",
       "251  18359400    INTC  251.0  \n",
       "\n",
       "[504 rows x 9 columns]"
      ]
     },
     "execution_count": 60,
     "metadata": {},
     "output_type": "execute_result"
    }
   ],
   "source": [
    "data = pd.concat([AMD, INTC], ignore_index = False)"
   ]
  },
  {
   "cell_type": "code",
   "execution_count": 71,
   "metadata": {},
   "outputs": [
    {
     "name": "stdout",
     "output_type": "stream",
     "text": [
      "Yello!\n"
     ]
    }
   ],
   "source": [
    "vLoad_Stocks = True\n",
    "\n",
    "if vLoad_Stocks:\n",
    "    print(\"Yello!\")"
   ]
  },
  {
   "cell_type": "code",
   "execution_count": 6,
   "metadata": {},
   "outputs": [],
   "source": [
    "# Get quarterly balance sheets\n",
    "Ticker_sheets = {}\n",
    "\n",
    "# Get quarterly balance sheets based on the Ticker list\n",
    "for Ticker in Ticker_df:\n",
    "    Ticker_object = yf.Ticker(Ticker)\n",
    "    Ticker_sheets[Ticker] = Ticker_object.quarterly_balance_sheet\n",
    "    \n",
    "# Store quarterly balance sheets    \n",
    "for Ticker in Ticker_sheets:\n",
    "    Ticker_sheets[Ticker].to_csv(\"data/quarterly_balance_sheets_\" + str(Ticker) + \".csv\", sep = \",\")"
   ]
  },
  {
   "cell_type": "code",
   "execution_count": null,
   "metadata": {},
   "outputs": [],
   "source": []
  }
 ],
 "metadata": {
  "interpreter": {
   "hash": "cc6df599ed388aacf2e3a857b6ad7c0aeb92f0d188fcfc11ce44944b23c64327"
  },
  "kernelspec": {
   "display_name": "Python 3.10.4 64-bit",
   "language": "python",
   "name": "python3"
  },
  "language_info": {
   "codemirror_mode": {
    "name": "ipython",
    "version": 3
   },
   "file_extension": ".py",
   "mimetype": "text/x-python",
   "name": "python",
   "nbconvert_exporter": "python",
   "pygments_lexer": "ipython3",
   "version": "3.10.4"
  },
  "orig_nbformat": 4
 },
 "nbformat": 4,
 "nbformat_minor": 2
}
