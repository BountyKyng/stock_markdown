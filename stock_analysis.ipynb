{
 "cells": [
  {
   "cell_type": "markdown",
   "metadata": {},
   "source": [
    "# Intel Stock Analyser\n",
    "Version 1.0\n",
    "\n",
    "In this simple stock analyser I will explore balance sheet items that correlate with the opening- and closing stock price of Intel. Specifically for the last half of 2021."
   ]
  },
  {
   "cell_type": "code",
   "execution_count": 1,
   "metadata": {},
   "outputs": [],
   "source": [
    "# Import required packages\n",
    "import pandas as pd\n",
    "import numpy as np\n",
    "import matplotlib.pyplot as plt\n",
    "import csv\n",
    "import datetime"
   ]
  },
  {
   "cell_type": "code",
   "execution_count": 2,
   "metadata": {},
   "outputs": [],
   "source": [
    "# Read data into sessiom\n",
    "stock = pd.read_csv('data/stock_history.csv')\n",
    "balance = pd.read_csv('data/balance.csv')\n"
   ]
  },
  {
   "cell_type": "code",
   "execution_count": 3,
   "metadata": {},
   "outputs": [
    {
     "data": {
      "text/html": [
       "<div>\n",
       "<style scoped>\n",
       "    .dataframe tbody tr th:only-of-type {\n",
       "        vertical-align: middle;\n",
       "    }\n",
       "\n",
       "    .dataframe tbody tr th {\n",
       "        vertical-align: top;\n",
       "    }\n",
       "\n",
       "    .dataframe thead th {\n",
       "        text-align: right;\n",
       "    }\n",
       "</style>\n",
       "<table border=\"1\" class=\"dataframe\">\n",
       "  <thead>\n",
       "    <tr style=\"text-align: right;\">\n",
       "      <th></th>\n",
       "      <th>Unnamed: 0</th>\n",
       "      <th>2021-12-25</th>\n",
       "      <th>2021-09-25</th>\n",
       "      <th>2021-06-26</th>\n",
       "      <th>2021-03-27</th>\n",
       "    </tr>\n",
       "  </thead>\n",
       "  <tbody>\n",
       "    <tr>\n",
       "      <th>0</th>\n",
       "      <td>Intangible Assets</td>\n",
       "      <td>7.270000e+09</td>\n",
       "      <td>7.684000e+09</td>\n",
       "      <td>8.018000e+09</td>\n",
       "      <td>8.408000e+09</td>\n",
       "    </tr>\n",
       "    <tr>\n",
       "      <th>1</th>\n",
       "      <td>Total Liab</td>\n",
       "      <td>7.301500e+10</td>\n",
       "      <td>7.787500e+10</td>\n",
       "      <td>6.939000e+10</td>\n",
       "      <td>7.081500e+10</td>\n",
       "    </tr>\n",
       "    <tr>\n",
       "      <th>2</th>\n",
       "      <td>Total Stockholder Equity</td>\n",
       "      <td>9.539100e+10</td>\n",
       "      <td>9.008700e+10</td>\n",
       "      <td>8.520700e+10</td>\n",
       "      <td>7.980700e+10</td>\n",
       "    </tr>\n",
       "    <tr>\n",
       "      <th>3</th>\n",
       "      <td>Other Current Liab</td>\n",
       "      <td>2.555000e+09</td>\n",
       "      <td>5.560000e+08</td>\n",
       "      <td>6.180000e+08</td>\n",
       "      <td>6.090000e+08</td>\n",
       "    </tr>\n",
       "    <tr>\n",
       "      <th>4</th>\n",
       "      <td>Total Assets</td>\n",
       "      <td>1.684060e+11</td>\n",
       "      <td>1.679620e+11</td>\n",
       "      <td>1.545970e+11</td>\n",
       "      <td>1.506220e+11</td>\n",
       "    </tr>\n",
       "  </tbody>\n",
       "</table>\n",
       "</div>"
      ],
      "text/plain": [
       "                 Unnamed: 0    2021-12-25    2021-09-25    2021-06-26  \\\n",
       "0         Intangible Assets  7.270000e+09  7.684000e+09  8.018000e+09   \n",
       "1                Total Liab  7.301500e+10  7.787500e+10  6.939000e+10   \n",
       "2  Total Stockholder Equity  9.539100e+10  9.008700e+10  8.520700e+10   \n",
       "3        Other Current Liab  2.555000e+09  5.560000e+08  6.180000e+08   \n",
       "4              Total Assets  1.684060e+11  1.679620e+11  1.545970e+11   \n",
       "\n",
       "     2021-03-27  \n",
       "0  8.408000e+09  \n",
       "1  7.081500e+10  \n",
       "2  7.980700e+10  \n",
       "3  6.090000e+08  \n",
       "4  1.506220e+11  "
      ]
     },
     "execution_count": 3,
     "metadata": {},
     "output_type": "execute_result"
    }
   ],
   "source": [
    "# Check out data structure with head function\n",
    "stock.head()\n",
    "balance.head()"
   ]
  },
  {
   "cell_type": "code",
   "execution_count": 4,
   "metadata": {},
   "outputs": [
    {
     "data": {
      "text/html": [
       "<div>\n",
       "<style scoped>\n",
       "    .dataframe tbody tr th:only-of-type {\n",
       "        vertical-align: middle;\n",
       "    }\n",
       "\n",
       "    .dataframe tbody tr th {\n",
       "        vertical-align: top;\n",
       "    }\n",
       "\n",
       "    .dataframe thead th {\n",
       "        text-align: right;\n",
       "    }\n",
       "</style>\n",
       "<table border=\"1\" class=\"dataframe\">\n",
       "  <thead>\n",
       "    <tr style=\"text-align: right;\">\n",
       "      <th></th>\n",
       "      <th>Balance Item</th>\n",
       "      <th>2021-12-25</th>\n",
       "      <th>2021-09-25</th>\n",
       "      <th>2021-06-26</th>\n",
       "      <th>2021-03-27</th>\n",
       "    </tr>\n",
       "  </thead>\n",
       "  <tbody>\n",
       "    <tr>\n",
       "      <th>0</th>\n",
       "      <td>Intangible Assets</td>\n",
       "      <td>7.270000e+09</td>\n",
       "      <td>7.684000e+09</td>\n",
       "      <td>8.018000e+09</td>\n",
       "      <td>8.408000e+09</td>\n",
       "    </tr>\n",
       "    <tr>\n",
       "      <th>1</th>\n",
       "      <td>Total Liab</td>\n",
       "      <td>7.301500e+10</td>\n",
       "      <td>7.787500e+10</td>\n",
       "      <td>6.939000e+10</td>\n",
       "      <td>7.081500e+10</td>\n",
       "    </tr>\n",
       "    <tr>\n",
       "      <th>2</th>\n",
       "      <td>Total Stockholder Equity</td>\n",
       "      <td>9.539100e+10</td>\n",
       "      <td>9.008700e+10</td>\n",
       "      <td>8.520700e+10</td>\n",
       "      <td>7.980700e+10</td>\n",
       "    </tr>\n",
       "    <tr>\n",
       "      <th>3</th>\n",
       "      <td>Other Current Liab</td>\n",
       "      <td>2.555000e+09</td>\n",
       "      <td>5.560000e+08</td>\n",
       "      <td>6.180000e+08</td>\n",
       "      <td>6.090000e+08</td>\n",
       "    </tr>\n",
       "    <tr>\n",
       "      <th>4</th>\n",
       "      <td>Total Assets</td>\n",
       "      <td>1.684060e+11</td>\n",
       "      <td>1.679620e+11</td>\n",
       "      <td>1.545970e+11</td>\n",
       "      <td>1.506220e+11</td>\n",
       "    </tr>\n",
       "  </tbody>\n",
       "</table>\n",
       "</div>"
      ],
      "text/plain": [
       "               Balance Item    2021-12-25    2021-09-25    2021-06-26  \\\n",
       "0         Intangible Assets  7.270000e+09  7.684000e+09  8.018000e+09   \n",
       "1                Total Liab  7.301500e+10  7.787500e+10  6.939000e+10   \n",
       "2  Total Stockholder Equity  9.539100e+10  9.008700e+10  8.520700e+10   \n",
       "3        Other Current Liab  2.555000e+09  5.560000e+08  6.180000e+08   \n",
       "4              Total Assets  1.684060e+11  1.679620e+11  1.545970e+11   \n",
       "\n",
       "     2021-03-27  \n",
       "0  8.408000e+09  \n",
       "1  7.081500e+10  \n",
       "2  7.980700e+10  \n",
       "3  6.090000e+08  \n",
       "4  1.506220e+11  "
      ]
     },
     "execution_count": 4,
     "metadata": {},
     "output_type": "execute_result"
    }
   ],
   "source": [
    "# Rename incorrect first column name to 'Balance Item'\n",
    "# Check out head after changing data\n",
    "balance = balance.rename(columns={'Unnamed: 0' : 'Balance Item'})\n",
    "balance.head()"
   ]
  },
  {
   "cell_type": "code",
   "execution_count": 5,
   "metadata": {},
   "outputs": [],
   "source": [
    "# Add column 'Ticker' to datasets which is INTC\n",
    "stock['Ticker'] = 'INTC'\n",
    "balance['Ticker'] = 'INTC'"
   ]
  },
  {
   "cell_type": "code",
   "execution_count": 6,
   "metadata": {},
   "outputs": [
    {
     "data": {
      "text/plain": [
       "Date             object\n",
       "Open            float64\n",
       "High            float64\n",
       "Low             float64\n",
       "Close           float64\n",
       "Volume            int64\n",
       "Dividends       float64\n",
       "Stock Splits      int64\n",
       "Ticker           object\n",
       "dtype: object"
      ]
     },
     "execution_count": 6,
     "metadata": {},
     "output_type": "execute_result"
    }
   ],
   "source": [
    "# Check out stock data types\n",
    "# Date variable needs to be changed to DateTime variable\n",
    "stock.dtypes"
   ]
  },
  {
   "cell_type": "code",
   "execution_count": 7,
   "metadata": {},
   "outputs": [
    {
     "data": {
      "text/plain": [
       "Balance Item     object\n",
       "2021-12-25      float64\n",
       "2021-09-25      float64\n",
       "2021-06-26      float64\n",
       "2021-03-27      float64\n",
       "Ticker           object\n",
       "dtype: object"
      ]
     },
     "execution_count": 7,
     "metadata": {},
     "output_type": "execute_result"
    }
   ],
   "source": [
    "# Check out balance data types\n",
    "balance.dtypes"
   ]
  },
  {
   "cell_type": "code",
   "execution_count": 8,
   "metadata": {},
   "outputs": [
    {
     "data": {
      "text/html": [
       "<div>\n",
       "<style scoped>\n",
       "    .dataframe tbody tr th:only-of-type {\n",
       "        vertical-align: middle;\n",
       "    }\n",
       "\n",
       "    .dataframe tbody tr th {\n",
       "        vertical-align: top;\n",
       "    }\n",
       "\n",
       "    .dataframe thead th {\n",
       "        text-align: right;\n",
       "    }\n",
       "</style>\n",
       "<table border=\"1\" class=\"dataframe\">\n",
       "  <thead>\n",
       "    <tr style=\"text-align: right;\">\n",
       "      <th></th>\n",
       "      <th>Date</th>\n",
       "      <th>Open</th>\n",
       "      <th>High</th>\n",
       "      <th>Low</th>\n",
       "      <th>Close</th>\n",
       "      <th>Volume</th>\n",
       "      <th>Dividends</th>\n",
       "      <th>Stock Splits</th>\n",
       "      <th>Ticker</th>\n",
       "      <th>Month</th>\n",
       "      <th>Day Name</th>\n",
       "      <th>Month Name</th>\n",
       "    </tr>\n",
       "  </thead>\n",
       "  <tbody>\n",
       "    <tr>\n",
       "      <th>0</th>\n",
       "      <td>2021-02-01</td>\n",
       "      <td>54.5359</td>\n",
       "      <td>55.939503</td>\n",
       "      <td>54.301964</td>\n",
       "      <td>55.257195</td>\n",
       "      <td>26926600</td>\n",
       "      <td>0.0</td>\n",
       "      <td>0</td>\n",
       "      <td>INTC</td>\n",
       "      <td>2021-02</td>\n",
       "      <td>Monday</td>\n",
       "      <td>February</td>\n",
       "    </tr>\n",
       "  </tbody>\n",
       "</table>\n",
       "</div>"
      ],
      "text/plain": [
       "        Date     Open       High        Low      Close    Volume  Dividends  \\\n",
       "0 2021-02-01  54.5359  55.939503  54.301964  55.257195  26926600        0.0   \n",
       "\n",
       "   Stock Splits Ticker    Month Day Name Month Name  \n",
       "0             0   INTC  2021-02   Monday   February  "
      ]
     },
     "execution_count": 8,
     "metadata": {},
     "output_type": "execute_result"
    }
   ],
   "source": [
    "# Transform stock field 'Date' to Datetime variable\n",
    "stock['Date'] = pd.to_datetime(stock['Date'])\n",
    "\n",
    "# Add monthly data to stock dataset\n",
    "stock['Month'] = stock['Date'].dt.to_period('M')\n",
    "\n",
    "# Also add day name and month name to stock dataset\n",
    "stock['Day Name'] = stock['Date'].dt.day_name()\n",
    "stock['Month Name'] = stock['Date'].dt.month_name()\n",
    "\n",
    "# Check data\n",
    "stock.head(1)"
   ]
  },
  {
   "cell_type": "code",
   "execution_count": 11,
   "metadata": {},
   "outputs": [],
   "source": [
    "stock_month = stock.groupby(['Month Name']).mean()"
   ]
  },
  {
   "cell_type": "code",
   "execution_count": 21,
   "metadata": {},
   "outputs": [
    {
     "data": {
      "text/plain": [
       "Date            datetime64[ns]\n",
       "Open                   float64\n",
       "High                   float64\n",
       "Low                    float64\n",
       "Close                  float64\n",
       "Volume                   int64\n",
       "Dividends              float64\n",
       "Stock Splits             int64\n",
       "Ticker                  object\n",
       "Month                period[M]\n",
       "Day Name                object\n",
       "Month Name              object\n",
       "dtype: object"
      ]
     },
     "execution_count": 21,
     "metadata": {},
     "output_type": "execute_result"
    }
   ],
   "source": [
    "stock.dtypes"
   ]
  },
  {
   "cell_type": "code",
   "execution_count": null,
   "metadata": {},
   "outputs": [],
   "source": []
  }
 ],
 "metadata": {
  "interpreter": {
   "hash": "478b53684b45ff400a0afc14f1f423eafc887b5017ef1280e01251cb19cb2ac6"
  },
  "kernelspec": {
   "display_name": "Python 3.9.6 64-bit",
   "name": "python3"
  },
  "language_info": {
   "codemirror_mode": {
    "name": "ipython",
    "version": 3
   },
   "file_extension": ".py",
   "mimetype": "text/x-python",
   "name": "python",
   "nbconvert_exporter": "python",
   "pygments_lexer": "ipython3",
   "version": "3.10.2"
  },
  "orig_nbformat": 4
 },
 "nbformat": 4,
 "nbformat_minor": 2
}
