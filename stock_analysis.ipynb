{
 "cells": [
  {
   "cell_type": "code",
   "execution_count": 1,
   "metadata": {},
   "outputs": [],
   "source": [
    "import pandas as pd\n",
    "import numpy as np\n",
    "import matplotlib\n",
    "import csv"
   ]
  },
  {
   "cell_type": "code",
   "execution_count": 2,
   "metadata": {},
   "outputs": [],
   "source": [
    "stock = pd.read_csv('data/stock_history.csv')"
   ]
  },
  {
   "cell_type": "code",
   "execution_count": 3,
   "metadata": {},
   "outputs": [
    {
     "data": {
      "text/html": [
       "<div>\n",
       "<style scoped>\n",
       "    .dataframe tbody tr th:only-of-type {\n",
       "        vertical-align: middle;\n",
       "    }\n",
       "\n",
       "    .dataframe tbody tr th {\n",
       "        vertical-align: top;\n",
       "    }\n",
       "\n",
       "    .dataframe thead th {\n",
       "        text-align: right;\n",
       "    }\n",
       "</style>\n",
       "<table border=\"1\" class=\"dataframe\">\n",
       "  <thead>\n",
       "    <tr style=\"text-align: right;\">\n",
       "      <th></th>\n",
       "      <th>Date</th>\n",
       "      <th>Open</th>\n",
       "      <th>High</th>\n",
       "      <th>Low</th>\n",
       "      <th>Close</th>\n",
       "      <th>Volume</th>\n",
       "      <th>Dividends</th>\n",
       "      <th>Stock Splits</th>\n",
       "    </tr>\n",
       "  </thead>\n",
       "  <tbody>\n",
       "    <tr>\n",
       "      <th>0</th>\n",
       "      <td>2020-08-25</td>\n",
       "      <td>48.087458</td>\n",
       "      <td>48.603901</td>\n",
       "      <td>47.951040</td>\n",
       "      <td>48.165413</td>\n",
       "      <td>38384300</td>\n",
       "      <td>0.0</td>\n",
       "      <td>0</td>\n",
       "    </tr>\n",
       "    <tr>\n",
       "      <th>1</th>\n",
       "      <td>2020-08-26</td>\n",
       "      <td>48.126442</td>\n",
       "      <td>48.399278</td>\n",
       "      <td>47.970536</td>\n",
       "      <td>48.282349</td>\n",
       "      <td>28616600</td>\n",
       "      <td>0.0</td>\n",
       "      <td>0</td>\n",
       "    </tr>\n",
       "    <tr>\n",
       "      <th>2</th>\n",
       "      <td>2020-08-27</td>\n",
       "      <td>48.516207</td>\n",
       "      <td>48.652624</td>\n",
       "      <td>47.912066</td>\n",
       "      <td>48.136185</td>\n",
       "      <td>24420600</td>\n",
       "      <td>0.0</td>\n",
       "      <td>0</td>\n",
       "    </tr>\n",
       "    <tr>\n",
       "      <th>3</th>\n",
       "      <td>2020-08-28</td>\n",
       "      <td>48.301833</td>\n",
       "      <td>49.500365</td>\n",
       "      <td>48.194646</td>\n",
       "      <td>49.139832</td>\n",
       "      <td>35384700</td>\n",
       "      <td>0.0</td>\n",
       "      <td>0</td>\n",
       "    </tr>\n",
       "    <tr>\n",
       "      <th>4</th>\n",
       "      <td>2020-08-31</td>\n",
       "      <td>49.695254</td>\n",
       "      <td>50.182462</td>\n",
       "      <td>49.032650</td>\n",
       "      <td>49.646534</td>\n",
       "      <td>46114100</td>\n",
       "      <td>0.0</td>\n",
       "      <td>0</td>\n",
       "    </tr>\n",
       "  </tbody>\n",
       "</table>\n",
       "</div>"
      ],
      "text/plain": [
       "         Date       Open       High        Low      Close    Volume  \\\n",
       "0  2020-08-25  48.087458  48.603901  47.951040  48.165413  38384300   \n",
       "1  2020-08-26  48.126442  48.399278  47.970536  48.282349  28616600   \n",
       "2  2020-08-27  48.516207  48.652624  47.912066  48.136185  24420600   \n",
       "3  2020-08-28  48.301833  49.500365  48.194646  49.139832  35384700   \n",
       "4  2020-08-31  49.695254  50.182462  49.032650  49.646534  46114100   \n",
       "\n",
       "   Dividends  Stock Splits  \n",
       "0        0.0             0  \n",
       "1        0.0             0  \n",
       "2        0.0             0  \n",
       "3        0.0             0  \n",
       "4        0.0             0  "
      ]
     },
     "execution_count": 3,
     "metadata": {},
     "output_type": "execute_result"
    }
   ],
   "source": [
    "stock.head()"
   ]
  },
  {
   "cell_type": "code",
   "execution_count": 4,
   "metadata": {},
   "outputs": [
    {
     "data": {
      "text/html": [
       "<div>\n",
       "<style scoped>\n",
       "    .dataframe tbody tr th:only-of-type {\n",
       "        vertical-align: middle;\n",
       "    }\n",
       "\n",
       "    .dataframe tbody tr th {\n",
       "        vertical-align: top;\n",
       "    }\n",
       "\n",
       "    .dataframe thead th {\n",
       "        text-align: right;\n",
       "    }\n",
       "</style>\n",
       "<table border=\"1\" class=\"dataframe\">\n",
       "  <thead>\n",
       "    <tr style=\"text-align: right;\">\n",
       "      <th></th>\n",
       "      <th>Date</th>\n",
       "      <th>Open</th>\n",
       "      <th>High</th>\n",
       "      <th>Low</th>\n",
       "      <th>Close</th>\n",
       "      <th>Volume</th>\n",
       "      <th>Dividends</th>\n",
       "      <th>Stock Splits</th>\n",
       "      <th>ticker</th>\n",
       "    </tr>\n",
       "  </thead>\n",
       "  <tbody>\n",
       "    <tr>\n",
       "      <th>0</th>\n",
       "      <td>2020-08-25</td>\n",
       "      <td>48.087458</td>\n",
       "      <td>48.603901</td>\n",
       "      <td>47.951040</td>\n",
       "      <td>48.165413</td>\n",
       "      <td>38384300</td>\n",
       "      <td>0.0</td>\n",
       "      <td>0</td>\n",
       "      <td>INTC</td>\n",
       "    </tr>\n",
       "    <tr>\n",
       "      <th>1</th>\n",
       "      <td>2020-08-26</td>\n",
       "      <td>48.126442</td>\n",
       "      <td>48.399278</td>\n",
       "      <td>47.970536</td>\n",
       "      <td>48.282349</td>\n",
       "      <td>28616600</td>\n",
       "      <td>0.0</td>\n",
       "      <td>0</td>\n",
       "      <td>INTC</td>\n",
       "    </tr>\n",
       "    <tr>\n",
       "      <th>2</th>\n",
       "      <td>2020-08-27</td>\n",
       "      <td>48.516207</td>\n",
       "      <td>48.652624</td>\n",
       "      <td>47.912066</td>\n",
       "      <td>48.136185</td>\n",
       "      <td>24420600</td>\n",
       "      <td>0.0</td>\n",
       "      <td>0</td>\n",
       "      <td>INTC</td>\n",
       "    </tr>\n",
       "    <tr>\n",
       "      <th>3</th>\n",
       "      <td>2020-08-28</td>\n",
       "      <td>48.301833</td>\n",
       "      <td>49.500365</td>\n",
       "      <td>48.194646</td>\n",
       "      <td>49.139832</td>\n",
       "      <td>35384700</td>\n",
       "      <td>0.0</td>\n",
       "      <td>0</td>\n",
       "      <td>INTC</td>\n",
       "    </tr>\n",
       "    <tr>\n",
       "      <th>4</th>\n",
       "      <td>2020-08-31</td>\n",
       "      <td>49.695254</td>\n",
       "      <td>50.182462</td>\n",
       "      <td>49.032650</td>\n",
       "      <td>49.646534</td>\n",
       "      <td>46114100</td>\n",
       "      <td>0.0</td>\n",
       "      <td>0</td>\n",
       "      <td>INTC</td>\n",
       "    </tr>\n",
       "  </tbody>\n",
       "</table>\n",
       "</div>"
      ],
      "text/plain": [
       "         Date       Open       High        Low      Close    Volume  \\\n",
       "0  2020-08-25  48.087458  48.603901  47.951040  48.165413  38384300   \n",
       "1  2020-08-26  48.126442  48.399278  47.970536  48.282349  28616600   \n",
       "2  2020-08-27  48.516207  48.652624  47.912066  48.136185  24420600   \n",
       "3  2020-08-28  48.301833  49.500365  48.194646  49.139832  35384700   \n",
       "4  2020-08-31  49.695254  50.182462  49.032650  49.646534  46114100   \n",
       "\n",
       "   Dividends  Stock Splits ticker  \n",
       "0        0.0             0   INTC  \n",
       "1        0.0             0   INTC  \n",
       "2        0.0             0   INTC  \n",
       "3        0.0             0   INTC  \n",
       "4        0.0             0   INTC  "
      ]
     },
     "execution_count": 4,
     "metadata": {},
     "output_type": "execute_result"
    }
   ],
   "source": [
    "stock['ticker'] = 'INTC'\n",
    "stock.head()"
   ]
  },
  {
   "cell_type": "code",
   "execution_count": 7,
   "metadata": {},
   "outputs": [
    {
     "data": {
      "text/plain": [
       "Date            2020-08-25\n",
       "Open             48.087458\n",
       "High             48.603901\n",
       "Low               47.95104\n",
       "Close            48.165413\n",
       "Volume            38384300\n",
       "Dividends              0.0\n",
       "Stock Splits             0\n",
       "ticker                INTC\n",
       "Name: 0, dtype: object"
      ]
     },
     "execution_count": 7,
     "metadata": {},
     "output_type": "execute_result"
    }
   ],
   "source": [
    "stock.iloc[0]"
   ]
  },
  {
   "cell_type": "code",
   "execution_count": 15,
   "metadata": {},
   "outputs": [
    {
     "data": {
      "text/plain": [
       "<AxesSubplot:>"
      ]
     },
     "execution_count": 15,
     "metadata": {},
     "output_type": "execute_result"
    },
    {
     "data": {
      "image/png": "[encoded data removed]",
      "text/plain": [
       "<Figure size 432x288 with 1 Axes>"
      ]
     },
     "metadata": {
      "needs_background": "light"
     },
     "output_type": "display_data"
    }
   ],
   "source": [
    "stock_adjusted = stock[['Date', 'Close']]\n",
    "stock_adjusted.plot()"
   ]
  },
  {
   "cell_type": "code",
   "execution_count": 18,
   "metadata": {},
   "outputs": [
    {
     "data": {
      "text/plain": [
       "54.414588928222656"
      ]
     },
     "execution_count": 18,
     "metadata": {},
     "output_type": "execute_result"
    }
   ],
   "source": [
    "np.median(stock_adjusted['Close'])"
   ]
  }
 ],
 "metadata": {
  "interpreter": {
   "hash": "478b53684b45ff400a0afc14f1f423eafc887b5017ef1280e01251cb19cb2ac6"
  },
  "kernelspec": {
   "display_name": "Python 3.9.6 64-bit",
   "name": "python3"
  },
  "language_info": {
   "codemirror_mode": {
    "name": "ipython",
    "version": 3
   },
   "file_extension": ".py",
   "mimetype": "text/x-python",
   "name": "python",
   "nbconvert_exporter": "python",
   "pygments_lexer": "ipython3",
   "version": "3.9.6"
  },
  "orig_nbformat": 4
 },
 "nbformat": 4,
 "nbformat_minor": 2
}
